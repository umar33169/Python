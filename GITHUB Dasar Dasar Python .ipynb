{
 "cells": [
  {
   "cell_type": "markdown",
   "id": "ddcbe176",
   "metadata": {},
   "source": [
    "# Dasar Pemrograman Python"
   ]
  },
  {
   "cell_type": "markdown",
   "id": "2869cf80",
   "metadata": {},
   "source": [
    "## Tipe data dan variabel"
   ]
  },
  {
   "cell_type": "markdown",
   "id": "c4a39c4a",
   "metadata": {},
   "source": [
    "###### Variabel"
   ]
  },
  {
   "cell_type": "raw",
   "id": "f2836997",
   "metadata": {},
   "source": [
    "# Variabel : merupakan tempat untuk menamai data dengan tipe tertentu.\n",
    "\n",
    "Contoh variabel \n",
    "total_harga = 15000 ---> \"total_harga\" merupakan variabel.\n",
    "sepatu = {\"nama\" : \"Sepatu Niko\", \"harga\": 150000, \"diskon\" : 30000} ---> \"Sepatu\" merupakan variabel"
   ]
  },
  {
   "cell_type": "markdown",
   "id": "458f6a21",
   "metadata": {},
   "source": [
    "###### Integers"
   ]
  },
  {
   "cell_type": "raw",
   "id": "e50a33bb",
   "metadata": {},
   "source": [
    "# Integers : merupakan tipe data berupa bilangan bulat negatif dan positif.\n",
    "\n",
    "Contoh : 0, 1, 3, -2, -9"
   ]
  },
  {
   "cell_type": "code",
   "execution_count": 7,
   "id": "b23f410e",
   "metadata": {},
   "outputs": [
    {
     "name": "stdout",
     "output_type": "stream",
     "text": [
      "(0, 1, 3, -2, -9)\n"
     ]
    }
   ],
   "source": [
    "# Contoh data integer\n",
    "bilangan_bulat = (0, 1, 3, -2, -9)\n",
    "\n",
    "print(bilangan_bulat)"
   ]
  },
  {
   "cell_type": "markdown",
   "id": "d89258f8",
   "metadata": {},
   "source": [
    "###### Float"
   ]
  },
  {
   "cell_type": "raw",
   "id": "e1b8a27a",
   "metadata": {},
   "source": [
    "# Float/real : merupakan tipe data berupa bilangan koma.\n",
    "\n",
    "Contoh : 3.12, 0.34, 0.44"
   ]
  },
  {
   "cell_type": "code",
   "execution_count": 8,
   "id": "0586d02a",
   "metadata": {},
   "outputs": [
    {
     "name": "stdout",
     "output_type": "stream",
     "text": [
      "(3.12, 0.34, 0.44)\n"
     ]
    }
   ],
   "source": [
    "# Contoh data Float\n",
    "bilangan_koma = (3.12, 0.34, 0.44)\n",
    "\n",
    "print(bilangan_koma)"
   ]
  },
  {
   "cell_type": "markdown",
   "id": "6f42517c",
   "metadata": {},
   "source": [
    "###### String"
   ]
  },
  {
   "cell_type": "raw",
   "id": "90468e99",
   "metadata": {},
   "source": [
    "# String : merupakan tipe data berupa huruf, kata, atau karakter lain. Penulisannya diawali dan diakhiri tanda petik.\n",
    "\n",
    "Contoh : \"makan\", \"durian\""
   ]
  },
  {
   "cell_type": "code",
   "execution_count": 9,
   "id": "0ce070bc",
   "metadata": {},
   "outputs": [
    {
     "name": "stdout",
     "output_type": "stream",
     "text": [
      "('durian', 'apel')\n"
     ]
    }
   ],
   "source": [
    "# Contoh data string\n",
    "buah = (\"durian\", \"apel\")\n",
    "\n",
    "print(buah)"
   ]
  },
  {
   "cell_type": "markdown",
   "id": "f4d37f3c",
   "metadata": {},
   "source": [
    "###### Boolean"
   ]
  },
  {
   "cell_type": "raw",
   "id": "380938ef",
   "metadata": {},
   "source": [
    "# Boolean : merupakan tipe data yang hanya punya dua nilai, yaitu True atau False. Booelan berguna ketika berurusan dengan kondisi dan perulangan.\n",
    "\n",
    "Contoh : True dan False"
   ]
  },
  {
   "cell_type": "code",
   "execution_count": 10,
   "id": "c3603560",
   "metadata": {},
   "outputs": [
    {
     "name": "stdout",
     "output_type": "stream",
     "text": [
      "Output data boolean adalah  False\n"
     ]
    }
   ],
   "source": [
    "# Contoh data boolean\n",
    "a = 6\n",
    "b = 3\n",
    "\n",
    "c = b>a\n",
    "\n",
    "print(\"Output data boolean adalah \", c)"
   ]
  },
  {
   "cell_type": "markdown",
   "id": "790fc146",
   "metadata": {},
   "source": [
    "data boolean yang keluar adalah False, karena b tidak lebih kecil dari a."
   ]
  },
  {
   "cell_type": "markdown",
   "id": "b5f8946c",
   "metadata": {},
   "source": [
    "## Data struktur"
   ]
  },
  {
   "cell_type": "markdown",
   "id": "114cf128",
   "metadata": {},
   "source": [
    "###### Array"
   ]
  },
  {
   "cell_type": "raw",
   "id": "8976a1d8",
   "metadata": {},
   "source": [
    "# Array : berisi sekumpulan variabel yang memiliki tipe data yang sama. \n",
    "\n",
    "Contoh : ['Umar', 'Bakrie', 'Ammar'] dan [3, 5, 1]"
   ]
  },
  {
   "cell_type": "markdown",
   "id": "28772000",
   "metadata": {},
   "source": [
    "###### List"
   ]
  },
  {
   "cell_type": "raw",
   "id": "4bdcf2cf",
   "metadata": {},
   "source": [
    "# List : merupakan strukur data yang menyimpan kumpulan item; dapat berupa integer, float, booelan, strange. Ditulis dengan tanda kurung siku dan nilai di dalamnya dipisahkan dengan koma. List merupakan urutan nilai\n",
    "\n",
    "Contoh : list1 = ['soto', 'bakso', 1000, 3000]\n",
    "         list2 = [4, 2, 5, 6, 7]"
   ]
  },
  {
   "cell_type": "code",
   "execution_count": 30,
   "id": "098bf8e1",
   "metadata": {},
   "outputs": [
    {
     "name": "stdout",
     "output_type": "stream",
     "text": [
      "['soto', 'bakso', 1000, 3000]\n",
      "[4, 2, 5, 6, 7]\n"
     ]
    }
   ],
   "source": [
    "# Contoh penulisan list\n",
    "list1 = ['soto', 'bakso', 1000, 3000]\n",
    "list2 = [4, 2, 5, 6, 7]\n",
    "\n",
    "print(list1)\n",
    "print(list2)"
   ]
  },
  {
   "cell_type": "markdown",
   "id": "0e27e2fd",
   "metadata": {},
   "source": [
    "###### Tuples"
   ]
  },
  {
   "cell_type": "raw",
   "id": "d76a122d",
   "metadata": {},
   "source": [
    "# Tuples : merupakan urutan objek python yang tidak berubah. Bedanya dengan list, Tuples ditulis dengan tanda kurung () sedangkan list menggunakan kurung siku [].\n",
    "\n",
    "Contoh : tup1 = ('soto', 'bakso', 1000, 3000)\n",
    "         tup2 = (4, 2, 5, 6, 7)"
   ]
  },
  {
   "cell_type": "code",
   "execution_count": 25,
   "id": "24ae7d37",
   "metadata": {},
   "outputs": [
    {
     "name": "stdout",
     "output_type": "stream",
     "text": [
      "('soto', 'bakso', 1000, 3000)\n",
      "(4, 2, 5, 6, 7)\n"
     ]
    }
   ],
   "source": [
    "# Contoh penulisan tuples \n",
    "tup1 = ('soto', 'bakso', 1000, 3000)\n",
    "tup2 = (4, 2, 5, 6, 7)\n",
    "\n",
    "print(tup1)\n",
    "print(tup2)"
   ]
  },
  {
   "cell_type": "markdown",
   "id": "ff4370e4",
   "metadata": {},
   "source": [
    "###### Dictionary"
   ]
  },
  {
   "cell_type": "raw",
   "id": "4061cfcd",
   "metadata": {},
   "source": [
    "# Dictionary : berbeda dengan list dan tuple, dictionary memiliki key dan value pada tiap urutannya. Key dan value dipisahkan dengan titik dua (:). Dictionary ditulis dengan kurung kurawal {}. Konsep utama dictionary adalah bahwa untuk setiap nilai memiliki kunci unik. \n",
    "\n",
    "Contoh : Film = {'Judul' : 'Naruto', 'Genre' : Action}"
   ]
  },
  {
   "cell_type": "code",
   "execution_count": 16,
   "id": "8265821a",
   "metadata": {},
   "outputs": [
    {
     "name": "stdout",
     "output_type": "stream",
     "text": [
      "{'Judul': 'Naruto', 'Genre': 'Action', 'Rating': 9}\n"
     ]
    }
   ],
   "source": [
    "# Contoh penulisan Dictionay\n",
    "Film = {'Judul' : 'Naruto', 'Genre' : 'Action', 'Rating' : 9}\n",
    "print(Film)"
   ]
  },
  {
   "cell_type": "markdown",
   "id": "ed8ae8fc",
   "metadata": {},
   "source": [
    "###### Sets"
   ]
  },
  {
   "cell_type": "raw",
   "id": "191a4902",
   "metadata": {},
   "source": [
    "# Sets : himpunan"
   ]
  },
  {
   "cell_type": "code",
   "execution_count": 5,
   "id": "e3bfa026",
   "metadata": {},
   "outputs": [
    {
     "data": {
      "text/plain": [
       "{'h', 'n', 'o', 'p', 't', 'y'}"
      ]
     },
     "execution_count": 5,
     "metadata": {},
     "output_type": "execute_result"
    }
   ],
   "source": [
    "# Contoh sets\n",
    "set1 = set('python')\n",
    "set1"
   ]
  },
  {
   "cell_type": "markdown",
   "id": "26620141",
   "metadata": {},
   "source": [
    "###### Files"
   ]
  },
  {
   "cell_type": "raw",
   "id": "3ce4e930",
   "metadata": {},
   "source": [
    "# Files : bagian dari struktur data. Berfungsi untuk membuka, menutup, menulis, membaca data.\n",
    "\n",
    "Contoh : close(), open()"
   ]
  },
  {
   "cell_type": "markdown",
   "id": "959e9598",
   "metadata": {},
   "source": [
    "## Simbol khusus python"
   ]
  },
  {
   "cell_type": "markdown",
   "id": "d071a9b7",
   "metadata": {},
   "source": [
    "Simbol khusus pada pyhton dinamakan operator. Gunanya untuk melakukan operasi matematika. Ada 3 jenis operator, yaitu aritmatika untuk operasi matematika, perbandingan, dan logika."
   ]
  },
  {
   "cell_type": "code",
   "execution_count": 12,
   "id": "a13e2c4d",
   "metadata": {},
   "outputs": [
    {
     "name": "stdout",
     "output_type": "stream",
     "text": [
      "BERIKUT ADALAH OPERATOR ARITMATIKA\n"
     ]
    },
    {
     "data": {
      "text/html": [
       "<div>\n",
       "<style scoped>\n",
       "    .dataframe tbody tr th:only-of-type {\n",
       "        vertical-align: middle;\n",
       "    }\n",
       "\n",
       "    .dataframe tbody tr th {\n",
       "        vertical-align: top;\n",
       "    }\n",
       "\n",
       "    .dataframe thead th {\n",
       "        text-align: right;\n",
       "    }\n",
       "</style>\n",
       "<table border=\"1\" class=\"dataframe\">\n",
       "  <thead>\n",
       "    <tr style=\"text-align: right;\">\n",
       "      <th></th>\n",
       "      <th>Operator</th>\n",
       "      <th>Keterangan</th>\n",
       "      <th>Contoh</th>\n",
       "    </tr>\n",
       "  </thead>\n",
       "  <tbody>\n",
       "    <tr>\n",
       "      <th>0</th>\n",
       "      <td>+</td>\n",
       "      <td>Penjumlahan</td>\n",
       "      <td>a + b + 9</td>\n",
       "    </tr>\n",
       "    <tr>\n",
       "      <th>1</th>\n",
       "      <td>-</td>\n",
       "      <td>Pengurangan</td>\n",
       "      <td>a - b - 8</td>\n",
       "    </tr>\n",
       "    <tr>\n",
       "      <th>2</th>\n",
       "      <td>*</td>\n",
       "      <td>Perkalian</td>\n",
       "      <td>a * b</td>\n",
       "    </tr>\n",
       "    <tr>\n",
       "      <th>3</th>\n",
       "      <td>/</td>\n",
       "      <td>Pembagian</td>\n",
       "      <td>a / b</td>\n",
       "    </tr>\n",
       "    <tr>\n",
       "      <th>4</th>\n",
       "      <td>%</td>\n",
       "      <td>Modulus atau sisa hasil bagi</td>\n",
       "      <td>a % b</td>\n",
       "    </tr>\n",
       "    <tr>\n",
       "      <th>5</th>\n",
       "      <td>//</td>\n",
       "      <td>Pembagian pembulatan ke bawah</td>\n",
       "      <td>a // b</td>\n",
       "    </tr>\n",
       "    <tr>\n",
       "      <th>6</th>\n",
       "      <td>**</td>\n",
       "      <td>Pemangkatan</td>\n",
       "      <td>a ** b</td>\n",
       "    </tr>\n",
       "  </tbody>\n",
       "</table>\n",
       "</div>"
      ],
      "text/plain": [
       "  Operator                     Keterangan     Contoh\n",
       "0        +                    Penjumlahan  a + b + 9\n",
       "1        -                    Pengurangan  a - b - 8\n",
       "2        *                      Perkalian      a * b\n",
       "3        /                      Pembagian      a / b\n",
       "4        %   Modulus atau sisa hasil bagi      a % b\n",
       "5       //  Pembagian pembulatan ke bawah     a // b\n",
       "6       **                    Pemangkatan     a ** b"
      ]
     },
     "execution_count": 12,
     "metadata": {},
     "output_type": "execute_result"
    }
   ],
   "source": [
    "# HIRAUKAN CODINGANNYA, FOKUS PADA TABEL OPERATOR ARITMATIKA SAJA\n",
    "\n",
    "import pandas as pd\n",
    "df1 = pd.DataFrame([\n",
    "    [\"+\", \"Penjumlahan\", \"a + b + 9\"],\n",
    "    [\"-\", \"Pengurangan\", \"a - b - 8\"],\n",
    "    [\"*\", \"Perkalian\", \"a * b\"],\n",
    "    [\"/\", \"Pembagian\", \"a / b\"],\n",
    "    [\"%\", \"Modulus atau sisa hasil bagi\", \"a % b\"],\n",
    "    [\"//\", \"Pembagian pembulatan ke bawah\", \"a // b\"],\n",
    "    [\"**\", \"Pemangkatan\", \"a ** b\"]\n",
    "])\n",
    "\n",
    "df1.columns = [\"Operator\", \"Keterangan\", \"Contoh\"]\n",
    "\n",
    "print(\"BERIKUT ADALAH OPERATOR ARITMATIKA\")\n",
    "df1"
   ]
  },
  {
   "cell_type": "code",
   "execution_count": 15,
   "id": "332d499c",
   "metadata": {},
   "outputs": [
    {
     "name": "stdout",
     "output_type": "stream",
     "text": [
      "BERIKUT OPERATOR PERBANDINGAN\n"
     ]
    },
    {
     "data": {
      "text/html": [
       "<div>\n",
       "<style scoped>\n",
       "    .dataframe tbody tr th:only-of-type {\n",
       "        vertical-align: middle;\n",
       "    }\n",
       "\n",
       "    .dataframe tbody tr th {\n",
       "        vertical-align: top;\n",
       "    }\n",
       "\n",
       "    .dataframe thead th {\n",
       "        text-align: right;\n",
       "    }\n",
       "</style>\n",
       "<table border=\"1\" class=\"dataframe\">\n",
       "  <thead>\n",
       "    <tr style=\"text-align: right;\">\n",
       "      <th></th>\n",
       "      <th>Operator</th>\n",
       "      <th>Keterangan</th>\n",
       "      <th>Contoh</th>\n",
       "    </tr>\n",
       "  </thead>\n",
       "  <tbody>\n",
       "    <tr>\n",
       "      <th>0</th>\n",
       "      <td>&gt;</td>\n",
       "      <td>Nilainya benar kalau operasi kiri lebih besar dari operasi kanan</td>\n",
       "      <td>2 &gt; 1</td>\n",
       "    </tr>\n",
       "    <tr>\n",
       "      <th>1</th>\n",
       "      <td>&lt;</td>\n",
       "      <td>Nilainya benar kalau operasi kiri lebih kecil dari operasi kanan</td>\n",
       "      <td>1 &lt; 2</td>\n",
       "    </tr>\n",
       "    <tr>\n",
       "      <th>2</th>\n",
       "      <td>==</td>\n",
       "      <td>Nilainya benar kalau operasi kanan dan kiri nialinya sama</td>\n",
       "      <td>a == b</td>\n",
       "    </tr>\n",
       "    <tr>\n",
       "      <th>3</th>\n",
       "      <td>!=</td>\n",
       "      <td>Nialinya benar kalau kedua operasi nialinya berbeda</td>\n",
       "      <td>a != b</td>\n",
       "    </tr>\n",
       "    <tr>\n",
       "      <th>4</th>\n",
       "      <td>&gt;=</td>\n",
       "      <td>Nilainya benar kalau operasi kiri nilainya lebih besar atau sama dengan operasi kanan</td>\n",
       "      <td>a &gt;= b</td>\n",
       "    </tr>\n",
       "    <tr>\n",
       "      <th>5</th>\n",
       "      <td>&lt;=</td>\n",
       "      <td>Nilainya benar kalau operasi kiri nilainya lebih kecil atau sama dengan oprasi kanan</td>\n",
       "      <td>a &lt;= b</td>\n",
       "    </tr>\n",
       "  </tbody>\n",
       "</table>\n",
       "</div>"
      ],
      "text/plain": [
       "  Operator  \\\n",
       "0        >   \n",
       "1        <   \n",
       "2       ==   \n",
       "3       !=   \n",
       "4       >=   \n",
       "5       <=   \n",
       "\n",
       "                                                                              Keterangan  \\\n",
       "0                       Nilainya benar kalau operasi kiri lebih besar dari operasi kanan   \n",
       "1                       Nilainya benar kalau operasi kiri lebih kecil dari operasi kanan   \n",
       "2                              Nilainya benar kalau operasi kanan dan kiri nialinya sama   \n",
       "3                                    Nialinya benar kalau kedua operasi nialinya berbeda   \n",
       "4  Nilainya benar kalau operasi kiri nilainya lebih besar atau sama dengan operasi kanan   \n",
       "5   Nilainya benar kalau operasi kiri nilainya lebih kecil atau sama dengan oprasi kanan   \n",
       "\n",
       "   Contoh  \n",
       "0   2 > 1  \n",
       "1   1 < 2  \n",
       "2  a == b  \n",
       "3  a != b  \n",
       "4  a >= b  \n",
       "5  a <= b  "
      ]
     },
     "execution_count": 15,
     "metadata": {},
     "output_type": "execute_result"
    }
   ],
   "source": [
    "# HIRAUKAN CODINGANNYA, FOKUS PADA TABEL OPERATOR PERBANDINGAN SAJA\n",
    "\n",
    "df3 = pd.DataFrame ([\n",
    "    [\">\", \"Nilainya benar kalau operasi kiri lebih besar dari operasi kanan\", \" 2 > 1\"],\n",
    "    [\"<\", \"Nilainya benar kalau operasi kiri lebih kecil dari operasi kanan\", \"1 < 2\"],\n",
    "    [\"==\", \"Nilainya benar kalau operasi kanan dan kiri nialinya sama\", \"a == b\"],\n",
    "    [\"!=\", \"Nialinya benar kalau kedua operasi nialinya berbeda\", \"a != b\"],\n",
    "    [\">=\", \"Nilainya benar kalau operasi kiri nilainya lebih besar atau sama dengan operasi kanan\", \"a >= b\"],\n",
    "    [\"<=\", \"Nilainya benar kalau operasi kiri nilainya lebih kecil atau sama dengan oprasi kanan\", \"a <= b\"]\n",
    "])\n",
    "\n",
    "df3.columns = [\"Operator\", \"Keterangan\", \"Contoh\"]\n",
    "pd.set_option('display.max_colwidth',1000)\n",
    "df3\n",
    "\n",
    "print(\"BERIKUT OPERATOR PERBANDINGAN\")\n",
    "df3"
   ]
  },
  {
   "cell_type": "code",
   "execution_count": 14,
   "id": "cf91752c",
   "metadata": {},
   "outputs": [
    {
     "name": "stdout",
     "output_type": "stream",
     "text": [
      "BERIKUT ADALAH OPERATOR LOGIKA\n"
     ]
    },
    {
     "data": {
      "text/html": [
       "<div>\n",
       "<style scoped>\n",
       "    .dataframe tbody tr th:only-of-type {\n",
       "        vertical-align: middle;\n",
       "    }\n",
       "\n",
       "    .dataframe tbody tr th {\n",
       "        vertical-align: top;\n",
       "    }\n",
       "\n",
       "    .dataframe thead th {\n",
       "        text-align: right;\n",
       "    }\n",
       "</style>\n",
       "<table border=\"1\" class=\"dataframe\">\n",
       "  <thead>\n",
       "    <tr style=\"text-align: right;\">\n",
       "      <th></th>\n",
       "      <th>Operator</th>\n",
       "      <th>Keterangan</th>\n",
       "      <th>Contoh</th>\n",
       "    </tr>\n",
       "  </thead>\n",
       "  <tbody>\n",
       "    <tr>\n",
       "      <th>0</th>\n",
       "      <td>and</td>\n",
       "      <td>Bernilai benar kalau KEDUA statement nilainya benar</td>\n",
       "      <td>a and y</td>\n",
       "    </tr>\n",
       "    <tr>\n",
       "      <th>1</th>\n",
       "      <td>or</td>\n",
       "      <td>Bernilai benar kalau SALAH SATU dari kedua statement nlainya benar</td>\n",
       "      <td>a or y</td>\n",
       "    </tr>\n",
       "    <tr>\n",
       "      <th>2</th>\n",
       "      <td>not</td>\n",
       "      <td>Bernilai kebalikan dari statement yang awal</td>\n",
       "      <td>!a</td>\n",
       "    </tr>\n",
       "  </tbody>\n",
       "</table>\n",
       "</div>"
      ],
      "text/plain": [
       "  Operator  \\\n",
       "0      and   \n",
       "1       or   \n",
       "2      not   \n",
       "\n",
       "                                                           Keterangan   Contoh  \n",
       "0                 Bernilai benar kalau KEDUA statement nilainya benar  a and y  \n",
       "1  Bernilai benar kalau SALAH SATU dari kedua statement nlainya benar   a or y  \n",
       "2                         Bernilai kebalikan dari statement yang awal       !a  "
      ]
     },
     "execution_count": 14,
     "metadata": {},
     "output_type": "execute_result"
    }
   ],
   "source": [
    "# HIRAUKAN CODINGANNYA, FOKUS PADA TABEL OPERATOR lOGIKA SAJA\n",
    "\n",
    "df2 = pd.DataFrame([\n",
    "    [\"and\", 'Bernilai benar kalau KEDUA statement nilainya benar', 'a and y'],\n",
    "    ['or', 'Bernilai benar kalau SALAH SATU dari kedua statement nlainya benar', 'a or y'],\n",
    "    ['not', 'Bernilai kebalikan dari statement yang awal', '!a']\n",
    "])\n",
    "\n",
    "df2.columns = [\"Operator\", 'Keterangan', 'Contoh']\n",
    "\n",
    "pd.set_option('display.max_colwidth',1000)\n",
    "df2\n",
    "\n",
    "print('BERIKUT ADALAH OPERATOR LOGIKA')\n",
    "df2"
   ]
  },
  {
   "cell_type": "markdown",
   "id": "1e740814",
   "metadata": {},
   "source": [
    "## Fungsi dan Method"
   ]
  },
  {
   "cell_type": "raw",
   "id": "96227221",
   "metadata": {},
   "source": [
    "# Fungsi berisi kode program.\n",
    "\n",
    "Fungsi sangat penting karena dapat mempermudah memanggil kode program yang panjang. Fungsi juga dapat memecah program besar menjadi sub program yang lebih sederhana.\n",
    "\n",
    "# Cara membuat Fungsi pada Python\n",
    "Dengan menggunakan kata kunci \"def\" lalu diikuti dengan nama fungsinya. Lalu dibawahnya merupakan body/isi dari fungsi tersebut. Penulisan body harus disertai indentasi (jarak).\n",
    "\n",
    "# Fungsi akan muncul apabila sudah dipanggil\n",
    "\n",
    "# Method adalah perilaku atau kegiatan. Ciri mudah method yaitu diawali dengan titik \".\""
   ]
  },
  {
   "cell_type": "code",
   "execution_count": 18,
   "id": "9a5762fb",
   "metadata": {},
   "outputs": [
    {
     "name": "stdout",
     "output_type": "stream",
     "text": [
      "Naruto, Fate, Konosuba, Spiderman\n"
     ]
    }
   ],
   "source": [
    "# Membuat Fungsi\n",
    "def judul_film():\n",
    "    print(\"Naruto, Fate, Konosuba, Spiderman\")\n",
    "\n",
    "# Memanggil Fungsi\n",
    "judul_film()"
   ]
  },
  {
   "cell_type": "code",
   "execution_count": null,
   "id": "c2183f80",
   "metadata": {},
   "outputs": [],
   "source": []
  },
  {
   "cell_type": "code",
   "execution_count": 21,
   "id": "9d62ec9c",
   "metadata": {},
   "outputs": [
    {
     "data": {
      "text/plain": [
       "'APEL, MANGGIS, MANGGA'"
      ]
     },
     "execution_count": 21,
     "metadata": {},
     "output_type": "execute_result"
    }
   ],
   "source": [
    "# Membuat method\n",
    "# Method hanya bisa disandingkan dengan satu variabel saja\n",
    "\n",
    "buah = \"Apel, manggis, mangga\"     # membuat variabel\n",
    "buah.upper()    # memberikan method pada variable, method .upper() untuk mengubah menjadi huruf kapital. \n",
    "                # Jadi kegiatan dari method disini adalah mengubah huruf kecil menjadi kapital"
   ]
  },
  {
   "cell_type": "markdown",
   "id": "a6f607f0",
   "metadata": {},
   "source": [
    "## If Else Statement"
   ]
  },
  {
   "cell_type": "raw",
   "id": "6042681d",
   "metadata": {},
   "source": [
    "If Else Statement berguna untuk memberi kemungkinan dua jawaban, antara ya atau tidak."
   ]
  },
  {
   "cell_type": "code",
   "execution_count": 24,
   "id": "0cdd6d72",
   "metadata": {},
   "outputs": [
    {
     "name": "stdout",
     "output_type": "stream",
     "text": [
      "no\n"
     ]
    }
   ],
   "source": [
    "# Penulisan If Else\n",
    "\n",
    "# Buat dulu variabelnya\n",
    "x = 9\n",
    "y = 5\n",
    "z = 0\n",
    "\n",
    "# Contoh if else 1 \n",
    "if x == y:\n",
    "    print(\"Yes\")\n",
    "else :\n",
    "    print(\"no\")"
   ]
  },
  {
   "cell_type": "markdown",
   "id": "38a47927",
   "metadata": {},
   "source": [
    "if else statement diatas mengatakan bahwa, jika x = y, maka hasilnya akan yes, \n",
    "tetapi jika x tidak sama dengan y maka hasilnya keluar no."
   ]
  },
  {
   "cell_type": "code",
   "execution_count": 25,
   "id": "7b10dbba",
   "metadata": {},
   "outputs": [
    {
     "name": "stdout",
     "output_type": "stream",
     "text": [
      "Salah\n"
     ]
    }
   ],
   "source": [
    "# Contoh if else 2 \n",
    "if (y-z) * x == 5 and y - z * x == 5:\n",
    "    print(\"Benar\")\n",
    "else:\n",
    "    print(\"Salah\")"
   ]
  },
  {
   "cell_type": "markdown",
   "id": "c8e48c94",
   "metadata": {},
   "source": [
    "Hasil yang keluar adalah \"salah\" karena operator \"and\" hasilnya akan benar apabila keduanya benar. Sedangkan di atas salah satunya salah."
   ]
  },
  {
   "cell_type": "markdown",
   "id": "e01560b3",
   "metadata": {},
   "source": [
    "#### Nested If / If else lebih dari satu kali"
   ]
  },
  {
   "cell_type": "raw",
   "id": "c43332ec",
   "metadata": {},
   "source": [
    "Maksudnya yaitu terdapat if else lain didalam if else. \n",
    "Menggunakan elif untuk pengganti if yang berada didalam if else."
   ]
  },
  {
   "cell_type": "code",
   "execution_count": 28,
   "id": "113d560c",
   "metadata": {},
   "outputs": [
    {
     "name": "stdout",
     "output_type": "stream",
     "text": [
      "x lebih dari sama dengan y\n"
     ]
    }
   ],
   "source": [
    "# contoh\n",
    "x = 9\n",
    "y = 5\n",
    "z = 0\n",
    "\n",
    "if x == y:\n",
    "    if(x != 9):\n",
    "        print(\"x dan y bukan angka 9\")\n",
    "    else:\n",
    "        print(\"X = Y\")\n",
    "elif(x >= y):\n",
    "    print(\"x lebih dari sama dengan y\")\n",
    "else:\n",
    "    print(\"yang bener x =\", 9, \"y =\", 5)"
   ]
  },
  {
   "cell_type": "markdown",
   "id": "68194d7b",
   "metadata": {},
   "source": [
    "#### Statement pass\n",
    "Statement pass artinya tidak melakukan proses apapun. Hanya diperlukan sintaksnya saja tanpa memerlukan proses apapun."
   ]
  },
  {
   "cell_type": "code",
   "execution_count": 2,
   "id": "c42e133a",
   "metadata": {},
   "outputs": [],
   "source": [
    "# Contoh statement pass\n",
    "x = 9\n",
    "if(x>9):\n",
    "    x = 10\n",
    "else:\n",
    "    pass\n",
    "\n",
    "# Walaupun sudah di run tetapi tidak menghasilkan apapun."
   ]
  },
  {
   "cell_type": "markdown",
   "id": "73c157d8",
   "metadata": {},
   "source": [
    "## Loop statement / Perulangan"
   ]
  },
  {
   "cell_type": "raw",
   "id": "70b5c9dd",
   "metadata": {},
   "source": [
    "Berguna untuk melakukan perulangan, baik itu memproses, menampilkan data, atau lainnya."
   ]
  },
  {
   "cell_type": "markdown",
   "id": "4c85318d",
   "metadata": {},
   "source": [
    "###### while loop"
   ]
  },
  {
   "cell_type": "raw",
   "id": "94c5db63",
   "metadata": {},
   "source": [
    "while loop merupakan perulangan yang tidak ditentukan batas akhirnya, perulangan akan terus berjalan selama kondisi true."
   ]
  },
  {
   "cell_type": "code",
   "execution_count": 10,
   "id": "d297f5fc",
   "metadata": {},
   "outputs": [
    {
     "name": "stdout",
     "output_type": "stream",
     "text": [
      "Hitungan ke:  0\n",
      "Hitungan ke:  1\n",
      "Hitungan ke:  2\n",
      "Hitungan ke:  3\n",
      "Hitungan ke:  4\n",
      "Hitungan ke:  5\n",
      "Hitungan ke:  6\n",
      "Hitungan ke:  7\n",
      "Hitungan ke:  8\n",
      "Hitungan ke:  9\n",
      "Stop, hitungan harus < 10\n"
     ]
    }
   ],
   "source": [
    "# Contoh 1 \n",
    "hitungan = 0                         # perintah untuk input angka 0 didalam variabel \"hitungan\"\n",
    "while (hitungan < 10):               # maksudnya adalah selama nilai variabel \"hitungan\" < 10, perulangan akan terus dilakukan\n",
    "    print (\"Hitungan ke: \", hitungan)  \n",
    "    hitungan = hitungan + 1          # berfungsi untuk menaikkan 1 angka pada variabel \"hitungan\" setiap kali setelah perulangan\n",
    "\n",
    "print(\"Stop, hitungan harus < 10\")"
   ]
  },
  {
   "cell_type": "code",
   "execution_count": 11,
   "id": "40ec619d",
   "metadata": {},
   "outputs": [
    {
     "name": "stdout",
     "output_type": "stream",
     "text": [
      "hari ke 1\n",
      "hari ke 3\n",
      "hari ke 5\n",
      "hari ke 7\n"
     ]
    }
   ],
   "source": [
    "# Contoh 2 \n",
    "i = 1\n",
    "while i < 9:\n",
    "    print(\"hari ke\", i)\n",
    "    i = i+2"
   ]
  },
  {
   "cell_type": "markdown",
   "id": "c64cf8b8",
   "metadata": {},
   "source": [
    "###### for loop"
   ]
  },
  {
   "cell_type": "raw",
   "id": "782245f0",
   "metadata": {},
   "source": [
    "Perulangan for untuk perulangan array/himpunan."
   ]
  },
  {
   "cell_type": "code",
   "execution_count": 12,
   "id": "beffac19",
   "metadata": {},
   "outputs": [
    {
     "name": "stdout",
     "output_type": "stream",
     "text": [
      "mangga\n",
      "salak\n",
      "semangka\n",
      "melon\n"
     ]
    }
   ],
   "source": [
    "# Contoh 1 \n",
    "buah = [\"mangga\", 'salak', 'semangka', 'melon'] # memasukkan variabel untuk data list, terdapat 4 element disini\n",
    "for jenis in buah:  # artinya adalah menggunakan perulangan for, kita menampilkan isi variabel \"buah\". Variable \"jenis\" untuk menampilkan element\n",
    "    print(jenis)"
   ]
  },
  {
   "cell_type": "code",
   "execution_count": 13,
   "id": "31fc5fe4",
   "metadata": {},
   "outputs": [
    {
     "name": "stdout",
     "output_type": "stream",
     "text": [
      "Hari ini nonton naruto\n",
      "Hari ini nonton spiderman\n",
      "Hari ini nonton superman\n",
      "Hari ini nonton kimi no nawa\n"
     ]
    }
   ],
   "source": [
    "# Contoh 2 \n",
    "film = ['naruto', 'spiderman', 'superman', 'kimi no nawa']\n",
    "for nonton in film:\n",
    "    print(\"Hari ini nonton\", nonton)"
   ]
  },
  {
   "cell_type": "markdown",
   "id": "691b15c0",
   "metadata": {},
   "source": [
    "## Break dan Continue"
   ]
  },
  {
   "cell_type": "raw",
   "id": "50158ae6",
   "metadata": {},
   "source": [
    "Break berfungsi untuk menghentikan looping ketika terjadi kondisi tertentu. Continue untuk mengulangi pengulangan."
   ]
  },
  {
   "cell_type": "markdown",
   "id": "5a73de0e",
   "metadata": {},
   "source": [
    "###### Break\n"
   ]
  },
  {
   "cell_type": "code",
   "execution_count": 26,
   "id": "6bf0f686",
   "metadata": {},
   "outputs": [
    {
     "name": "stdout",
     "output_type": "stream",
     "text": [
      "Hitungan ke:  0\n",
      "Hitungan ke:  1\n",
      "Hitungan ke:  2\n",
      "Hitungan ke:  3\n"
     ]
    }
   ],
   "source": [
    "hitungan = 0                        \n",
    "while (hitungan < 10):              \n",
    "    print (\"Hitungan ke: \", hitungan)  \n",
    "    hitungan = hitungan + 1\n",
    "    if hitungan == 4:\n",
    "        break"
   ]
  },
  {
   "cell_type": "markdown",
   "id": "da96bc65",
   "metadata": {},
   "source": [
    "Loop diatas seharunya akan berhenti ketika sampai pada hitungan ke 9, tetapi karena ada perintah break saat hitungan ke 4, maka proses dihentikan."
   ]
  },
  {
   "cell_type": "markdown",
   "id": "5c23e5d6",
   "metadata": {},
   "source": [
    "###### Continue"
   ]
  },
  {
   "cell_type": "code",
   "execution_count": 42,
   "id": "c81dd1cd",
   "metadata": {},
   "outputs": [
    {
     "name": "stdout",
     "output_type": "stream",
     "text": [
      "Hitungan ke:  1\n",
      "Hitungan ke:  2\n",
      "Hitungan ke:  3\n",
      "Hitungan ke:  5\n",
      "Hitungan ke:  6\n",
      "Hitungan ke:  7\n",
      "Hitungan ke:  8\n",
      "Hitungan ke:  9\n",
      "Hitungan ke:  10\n"
     ]
    }
   ],
   "source": [
    "hitungan = 0                        \n",
    "while (hitungan < 10):              \n",
    "    hitungan = hitungan + 1\n",
    "    if hitungan == 4:\n",
    "        continue\n",
    "    print (\"Hitungan ke: \", hitungan)\n",
    "    "
   ]
  },
  {
   "cell_type": "markdown",
   "id": "ae5d3bcd",
   "metadata": {},
   "source": [
    "pada hitungan ke: 4 langsung terloncati melanjutkan ke hitungan ke: 5 dst."
   ]
  }
 ],
 "metadata": {
  "kernelspec": {
   "display_name": "Python 3",
   "language": "python",
   "name": "python3"
  },
  "language_info": {
   "codemirror_mode": {
    "name": "ipython",
    "version": 3
   },
   "file_extension": ".py",
   "mimetype": "text/x-python",
   "name": "python",
   "nbconvert_exporter": "python",
   "pygments_lexer": "ipython3",
   "version": "3.8.8"
  }
 },
 "nbformat": 4,
 "nbformat_minor": 5
}
