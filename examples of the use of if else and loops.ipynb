{
 "cells": [
  {
   "cell_type": "markdown",
   "id": "b809d049",
   "metadata": {},
   "source": [
    "### Contoh penerapan if else dan loop -- Penghitung Rumus Gerak Lurus Beraturan (GLB)"
   ]
  },
  {
   "cell_type": "code",
   "execution_count": null,
   "id": "4feb27ce",
   "metadata": {},
   "outputs": [
    {
     "name": "stdout",
     "output_type": "stream",
     "text": [
      "PROGRAM PENGHITUNG GLB\n",
      "\n",
      "Pilih 1 untuk lanjut\n",
      "Pilih 2 untuk keluar\n",
      "\n",
      "Input pilihan: 1\n",
      "\n",
      "pilih 1 untuk mencari jarak\n",
      "pilih 2 untuk mencari waktu\n",
      "pilih 3 untuk mencari kecepatan\n",
      "\n",
      "Input pilihan: 2\n",
      "\n",
      "Masukkan jarak dalam meter :4\n",
      "\n",
      "Masukkan kecepatan dalam m/s:2\n",
      "Waktu = 2.0 s\n",
      "\n",
      "Pilih 1 untuk lanjut\n",
      "Pilih 2 untuk keluar\n"
     ]
    }
   ],
   "source": [
    "print(\"PROGRAM PENGHITUNG GLB\")\n",
    "def hitung():\n",
    "    print(\"\\npilih 1 untuk mencari jarak\\npilih 2 untuk mencari waktu\\npilih 3 untuk mencari kecepatan\")\n",
    "    opsi = input(\"\\nInput pilihan: \")\n",
    "    \n",
    "    if opsi == \"1\":\n",
    "        kecepatan = float(input(\"\\nMasukkan kecepatan dalam m/s: \"))\n",
    "        waktu = float(input(\"\\nMasukkan waktu dalam s: \"))\n",
    "        jarak = kecepatan*waktu\n",
    "        print(\"Jarak =\", jarak, \"meter\")\n",
    "    elif opsi == \"2\":\n",
    "        jarak = float(input(\"\\nMasukkan jarak dalam meter :\"))\n",
    "        kecepatan = float(input(\"\\nMasukkan kecepatan dalam m/s:\"))\n",
    "        waktu = jarak/kecepatan\n",
    "        print('Waktu =', waktu, \"s\")\n",
    "    elif opsi == \"3\":\n",
    "        jarak = float(input(\"\\nMasukkan jarak dalam meter:\"))\n",
    "        waktu = float(input(\"\\nMasukkan waktu dalam s:\"))        \n",
    "        kecepatan = jarak/waktu\n",
    "        print('kecepatan =', kecepatan, \"m/s\")\n",
    "    else :\n",
    "        print(\"tidak tersedia\")\n",
    "\n",
    "if __name__ == '__main__':\n",
    "    while True:\n",
    "        print(\"\\nPilih 1 untuk lanjut\\nPilih 2 untuk keluar\")\n",
    "        pilihanku = input('\\nInput pilihan: ')\n",
    "        \n",
    "        if pilihanku == \"1\":\n",
    "            hitung()\n",
    "        elif pilihanku == \"2\":\n",
    "            break\n",
    "        else:\n",
    "            print(\"Pilihan tidak tersedia\")\n",
    "\n",
    "print(\"Terima kasih telah menggunakan program kami\")"
   ]
  }
 ],
 "metadata": {
  "kernelspec": {
   "display_name": "Python 3",
   "language": "python",
   "name": "python3"
  },
  "language_info": {
   "codemirror_mode": {
    "name": "ipython",
    "version": 3
   },
   "file_extension": ".py",
   "mimetype": "text/x-python",
   "name": "python",
   "nbconvert_exporter": "python",
   "pygments_lexer": "ipython3",
   "version": "3.8.8"
  }
 },
 "nbformat": 4,
 "nbformat_minor": 5
}
